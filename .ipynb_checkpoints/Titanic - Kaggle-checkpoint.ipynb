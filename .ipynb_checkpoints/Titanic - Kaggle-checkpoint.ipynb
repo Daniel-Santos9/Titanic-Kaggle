{
 "cells": [
  {
   "cell_type": "code",
   "execution_count": 34,
   "metadata": {},
   "outputs": [],
   "source": [
    "import pandas as pd\n",
    "import numpy as np\n",
    "from sklearn.ensemble import RandomForestClassifier\n",
    "from sklearn.svm import SVC\n",
    "from sklearn.linear_model import LogisticRegression\n",
    "from sklearn.model_selection import train_test_split\n",
    "from sklearn.model_selection import RepeatedKFold"
   ]
  },
  {
   "cell_type": "code",
   "execution_count": 23,
   "metadata": {},
   "outputs": [],
   "source": [
    "def convert_sex(valor):\n",
    "    if valor == 'female':\n",
    "        return 1\n",
    "    else:\n",
    "        return 0"
   ]
  },
  {
   "cell_type": "code",
   "execution_count": 24,
   "metadata": {},
   "outputs": [],
   "source": [
    "train = pd.read_csv(\"train.csv\")\n",
    "test = pd.read_csv(\"test.csv\")\n",
    "\n",
    "train['sex_bin'] = train['Sex'].map(convert_sex)\n",
    "test['sex_bin'] = test['Sex'].map(convert_sex)\n",
    "\n",
    "train['Age'].fillna(train['Age'].mean(), inplace=True)\n",
    "test['Age'].fillna(test['Age'].mean(), inplace=True)\n",
    "\n",
    "var = ['sex_bin','Age','Pclass','SibSp','Parch','Fare']\n",
    "\n",
    "X = train[var]\n",
    "X = X.fillna(-1)\n",
    "y = train['Survived']"
   ]
  },
  {
   "cell_type": "code",
   "execution_count": 41,
   "metadata": {},
   "outputs": [
    {
     "name": "stdout",
     "output_type": "stream",
     "text": [
      "Acc: 0.7802690582959642\n",
      "\n",
      "Acc: 0.7955056179775281\n",
      "\n",
      "Acc: 0.820627802690583\n",
      "\n",
      "Acc: 0.8247191011235955\n",
      "\n",
      "Acc: 0.7869955156950673\n",
      "\n",
      "Acc: 0.7910112359550562\n",
      "\n",
      "Acc: 0.8094170403587444\n",
      "\n",
      "Acc: 0.7887640449438202\n",
      "\n",
      "Acc: 0.8026905829596412\n",
      "\n",
      "Acc: 0.8112359550561797\n",
      "\n",
      "Acc: 0.7982062780269058\n",
      "\n",
      "Acc: 0.7955056179775281\n",
      "\n",
      "Acc: 0.7982062780269058\n",
      "\n",
      "Acc: 0.8157303370786517\n",
      "\n",
      "Acc: 0.8116591928251121\n",
      "\n",
      "Acc: 0.8044943820224719\n",
      "\n",
      "Acc: 0.8340807174887892\n",
      "\n",
      "Acc: 0.8089887640449438\n",
      "\n",
      "Acc: 0.7869955156950673\n",
      "\n",
      "Acc: 0.8314606741573034\n",
      "\n"
     ]
    }
   ],
   "source": [
    "resul = []\n",
    "kf = RepeatedKFold(n_splits=2, n_repeats=10, random_state=10)\n",
    "\n",
    "for line_train, line_valid in kf.split(X):\n",
    "    #print(\"Treino:\", line_train.shape[0])\n",
    "    #print(\"Valid:\", line_valid.shape[0])\n",
    "\n",
    "    X_train, X_valid = X.iloc[line_train], X.iloc[line_valid]\n",
    "    y_train, y_valid = y.iloc[line_train], y.iloc[line_valid]\n",
    "    \n",
    "    #classifier = LogisticRegression()\n",
    "    classifier = RandomForestClassifier(n_estimators=100, n_jobs=-1, random_state=0)\n",
    "    classifier.fit(X_train, y_train)\n",
    "\n",
    "    predict = classifier.predict(test[].fillna(-1))\n",
    "\n",
    "    acc = np.mean(y_valid == predict)\n",
    "    resul.append(acc)\n",
    "    print(\"Acc:\", acc)\n",
    "    print()\n"
   ]
  },
  {
   "cell_type": "code",
   "execution_count": 42,
   "metadata": {},
   "outputs": [
    {
     "data": {
      "text/plain": [
       "0.804828185619993"
      ]
     },
     "execution_count": 42,
     "metadata": {},
     "output_type": "execute_result"
    }
   ],
   "source": [
    "np.mean(resul)"
   ]
  },
  {
   "cell_type": "code",
   "execution_count": 43,
   "metadata": {},
   "outputs": [
    {
     "ename": "ValueError",
     "evalue": "Length of passed values is 445, index implies 418",
     "output_type": "error",
     "traceback": [
      "\u001b[1;31m---------------------------------------------------------------------------\u001b[0m",
      "\u001b[1;31mValueError\u001b[0m                                Traceback (most recent call last)",
      "\u001b[1;32m<ipython-input-43-dc5727491720>\u001b[0m in \u001b[0;36m<module>\u001b[1;34m\u001b[0m\n\u001b[1;32m----> 1\u001b[1;33m \u001b[0msub\u001b[0m \u001b[1;33m=\u001b[0m \u001b[0mpd\u001b[0m\u001b[1;33m.\u001b[0m\u001b[0mSeries\u001b[0m\u001b[1;33m(\u001b[0m\u001b[0mpredict\u001b[0m\u001b[1;33m,\u001b[0m \u001b[0mindex\u001b[0m\u001b[1;33m=\u001b[0m\u001b[0mtest\u001b[0m\u001b[1;33m[\u001b[0m\u001b[1;34m'PassengerId'\u001b[0m\u001b[1;33m]\u001b[0m\u001b[1;33m,\u001b[0m \u001b[0mname\u001b[0m\u001b[1;33m=\u001b[0m\u001b[1;34m'Survived'\u001b[0m\u001b[1;33m)\u001b[0m\u001b[1;33m\u001b[0m\u001b[1;33m\u001b[0m\u001b[0m\n\u001b[0m\u001b[0;32m      2\u001b[0m \u001b[0msub\u001b[0m\u001b[1;33m.\u001b[0m\u001b[0mshape\u001b[0m\u001b[1;33m\u001b[0m\u001b[1;33m\u001b[0m\u001b[0m\n\u001b[0;32m      3\u001b[0m \u001b[1;33m\u001b[0m\u001b[0m\n\u001b[0;32m      4\u001b[0m \u001b[0msub\u001b[0m\u001b[1;33m.\u001b[0m\u001b[0mto_csv\u001b[0m\u001b[1;33m(\u001b[0m\u001b[1;34m\"model_RF.csv\"\u001b[0m\u001b[1;33m,\u001b[0m \u001b[0mheader\u001b[0m\u001b[1;33m=\u001b[0m\u001b[1;32mTrue\u001b[0m\u001b[1;33m)\u001b[0m\u001b[1;33m\u001b[0m\u001b[1;33m\u001b[0m\u001b[0m\n",
      "\u001b[1;32m~\\Anaconda3\\lib\\site-packages\\pandas\\core\\series.py\u001b[0m in \u001b[0;36m__init__\u001b[1;34m(self, data, index, dtype, name, copy, fastpath)\u001b[0m\n\u001b[0;32m    297\u001b[0m                         raise ValueError(\n\u001b[0;32m    298\u001b[0m                             \u001b[1;34m\"Length of passed values is {val}, \"\u001b[0m\u001b[1;33m\u001b[0m\u001b[1;33m\u001b[0m\u001b[0m\n\u001b[1;32m--> 299\u001b[1;33m                             \u001b[1;34m\"index implies {ind}\"\u001b[0m\u001b[1;33m.\u001b[0m\u001b[0mformat\u001b[0m\u001b[1;33m(\u001b[0m\u001b[0mval\u001b[0m\u001b[1;33m=\u001b[0m\u001b[0mlen\u001b[0m\u001b[1;33m(\u001b[0m\u001b[0mdata\u001b[0m\u001b[1;33m)\u001b[0m\u001b[1;33m,\u001b[0m \u001b[0mind\u001b[0m\u001b[1;33m=\u001b[0m\u001b[0mlen\u001b[0m\u001b[1;33m(\u001b[0m\u001b[0mindex\u001b[0m\u001b[1;33m)\u001b[0m\u001b[1;33m)\u001b[0m\u001b[1;33m\u001b[0m\u001b[1;33m\u001b[0m\u001b[0m\n\u001b[0m\u001b[0;32m    300\u001b[0m                         )\n\u001b[0;32m    301\u001b[0m                 \u001b[1;32mexcept\u001b[0m \u001b[0mTypeError\u001b[0m\u001b[1;33m:\u001b[0m\u001b[1;33m\u001b[0m\u001b[1;33m\u001b[0m\u001b[0m\n",
      "\u001b[1;31mValueError\u001b[0m: Length of passed values is 445, index implies 418"
     ]
    }
   ],
   "source": [
    "sub = pd.Series(predict, index=test['PassengerId'], name='Survived')\n",
    "sub.shape\n",
    "\n",
    "sub.to_csv(\"model_RF.csv\", header=True)"
   ]
  },
  {
   "cell_type": "code",
   "execution_count": null,
   "metadata": {},
   "outputs": [],
   "source": []
  }
 ],
 "metadata": {
  "kernelspec": {
   "display_name": "Python 3",
   "language": "python",
   "name": "python3"
  },
  "language_info": {
   "codemirror_mode": {
    "name": "ipython",
    "version": 3
   },
   "file_extension": ".py",
   "mimetype": "text/x-python",
   "name": "python",
   "nbconvert_exporter": "python",
   "pygments_lexer": "ipython3",
   "version": "3.7.4"
  }
 },
 "nbformat": 4,
 "nbformat_minor": 2
}
